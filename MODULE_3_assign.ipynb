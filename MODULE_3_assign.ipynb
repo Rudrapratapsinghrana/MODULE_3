{
  "nbformat": 4,
  "nbformat_minor": 0,
  "metadata": {
    "colab": {
      "provenance": []
    },
    "kernelspec": {
      "name": "python3",
      "display_name": "Python 3"
    },
    "language_info": {
      "name": "python"
    }
  },
  "cells": [
    {
      "cell_type": "markdown",
      "source": [
        "#DATA TYPE AND STRUCTURE\n",
        "\n",
        "\n",
        "Q1 = What are data structures, and why are they important ?\n",
        "\n",
        "   => they help in storing the data in organized way and help to manage the data efficiently.\n",
        "\n",
        "   IMPORTANCE: efficient in data managemtrnt\n",
        "\n",
        "\n",
        "Q2 = Explain the difference between mutable and immutable data types with examples\n",
        "\n",
        "   => mutable data type cn be modified wheras imutable data type cannot be modified\n",
        "\n",
        "   exaple: tuple cannot be modified so they are immuatable and list can be modified so they are mutable  \n",
        "\n",
        "Q3 = What are the main differences between lists and tuples in Python?\n",
        "   \n",
        "   =>the main diffrence between tuple and list is that list can be modified but tuple can not.\n",
        "\n",
        "Q4 = Describe how dictionaries store data?\n",
        "\n",
        "  =>Dictionaries store data as key-value pairs. Each key is unique.\n",
        "\n",
        "Q5 =  Why might you use a set instead of a list in Python?\n",
        "\n",
        "   =>A set automatically removes duplicate items, while a list allows duplicates\n",
        "\n",
        "Q6 = What is a string in Python, and how is it different from a list.\n",
        "\n",
        "   => string is a sequence of character while list is a collection of ordered and mutable item\n",
        "\n",
        "Q7 =  How do tuples ensure data integrity in Python ?\n",
        "\n",
        "  => Tuples ensure data integrity in Python by being immutable. meaning their value can't be changed after creation .\n",
        "\n",
        "\n",
        "Q8 = What is a hash table, and how does it relate to dictionaries in Python?\n",
        "\n",
        "  =>A hash table that maps keys to values using a hashing function, and Python dictionaries are built on hash tables.\n",
        "\n",
        "Q9 = Can lists contain different data types in Python ?\n",
        "  \n",
        "  =>yes.\n",
        "\n",
        "Q10 => Explain why strings are immutable in Python?\n",
        "\n",
        "   =>becouse it enhance performance, memory efficiency, and security.\n",
        "\n",
        "Q11 => What advantages do dictionaries offer over lists for certain tasks?\n",
        "\n",
        "   => Dictionaries offer faster lookups and data retrieval for key-based access.\n",
        "\n",
        "Q12 => Describe a scenario where using a tuple would be preferable over a list?\n",
        "\n",
        "  =>when we store a fixed collection of items that should not be modified then we use tuple over list like user's phone number,etc\n",
        "\n",
        "Q13 =>  How do sets handle duplicate values in Python?\n",
        "\n",
        "  =>Sets automatically remove duplicates by storing only unique values.\n",
        "\n",
        "Q14 =>How does the “in” keyword work differently for lists and dictionaries?\n",
        "\n",
        "  =>In lists, the \"in\" keyword checks if a value is present and for\n",
        "   dictionaries it checks if a key exists in the dictionary.\n",
        "\n",
        "Q15 => Can you modify the elements of a tuple? Explain why or why not?\n",
        "\n",
        "  =>no , becouse it is imutable.\n",
        "\n",
        "Q16 => What is a nested dictionary, and give an example of its use case?\n",
        "\n",
        "  => it is a type of dictionary where the values are themselves dictionaries, often used to represent hierarchical data like a contact book with multiple details for each contact.\n",
        "\n",
        "Q17 =>Describe the time complexity of accessing elements in a dictionary?\n",
        "\n",
        "  => O(1)\n",
        "\n",
        "Q18 => In what situations are lists preferred over dictionaries\n",
        "\n",
        "  =>when u need ordered collection of items with indexed access and don't require key-value pair mapping.\n",
        "\n",
        "Q19 => Why are dictionaries considered unordered, and how does that affect data retrieval?\n",
        "\n",
        "\n",
        "  =>Dictionaries are considered unordered because their elements are stored based on hash values, which means the order of key-value pairs is not guaranteed, but data retrieval is still efficient via key-based access.\n",
        "\n",
        "\n",
        "Q20 =>Explain the difference between a list and a dictionary in terms of data retrieval\n",
        "\n",
        "  =>A list retrieves data by index position, while a dictionary retrieves data by key.\n"
      ],
      "metadata": {
        "id": "bAp9Iu12a0Cj"
      }
    },
    {
      "cell_type": "code",
      "execution_count": null,
      "metadata": {
        "id": "Sj_qG6zmZv5w"
      },
      "outputs": [],
      "source": [
        "#Q1=>  Write a code to create a string with your name and print it\n",
        "\n",
        "\"\"\"\n",
        "name = \"rudra\"\n",
        "print(name)\n",
        "\n",
        "\"\"\"\n",
        "\n",
        "\n",
        "\n"
      ]
    },
    {
      "cell_type": "code",
      "source": [
        "#Q2 => Write a code to find the length of the string \"Hello World\"\n",
        "\"\"\"\n",
        "a=\"hello world\"\n",
        "length =len(a)\n",
        "print(length)\n",
        "\"\"\""
      ],
      "metadata": {
        "colab": {
          "base_uri": "https://localhost:8080/"
        },
        "id": "OUxbdXPawLp0",
        "outputId": "c73cf55d-931b-4379-abc2-563db623d523"
      },
      "execution_count": 3,
      "outputs": [
        {
          "output_type": "stream",
          "name": "stdout",
          "text": [
            "11\n"
          ]
        }
      ]
    },
    {
      "cell_type": "code",
      "source": [
        "#Q3 =>  Write a code to slice the first 3 characters from the string \"Python Programming\"\n",
        "'''\n",
        "a = \"python programming\"\n",
        "s=a[0:3]\n",
        "print(s)\n",
        "'''"
      ],
      "metadata": {
        "colab": {
          "base_uri": "https://localhost:8080/"
        },
        "id": "R2qwliS2wur5",
        "outputId": "b46b322c-297f-4d73-afbe-5416adb0e63f"
      },
      "execution_count": 4,
      "outputs": [
        {
          "output_type": "stream",
          "name": "stdout",
          "text": [
            "pyt\n"
          ]
        }
      ]
    },
    {
      "cell_type": "code",
      "source": [
        "# Q4 => Write a code to convert the string \"hello\" to uppercase\n",
        "'''\n",
        "a =\"hello\"\n",
        "u_c=a.upper()\n",
        "print(u_c)\n",
        "'''"
      ],
      "metadata": {
        "colab": {
          "base_uri": "https://localhost:8080/"
        },
        "id": "rZdtY6NaxInT",
        "outputId": "378de97c-fccb-4b4f-f0f2-b181aae9105f"
      },
      "execution_count": 6,
      "outputs": [
        {
          "output_type": "stream",
          "name": "stdout",
          "text": [
            "HELLO\n"
          ]
        }
      ]
    },
    {
      "cell_type": "code",
      "source": [
        "# Q5 => Write a code to replace the word \"apple\" with \"orange\" in the string \"I like apple\"\n",
        "''''\n",
        "a=\"I like apple\"\n",
        "rep=a.replace(\"apple\",\"orange\")\n",
        "print(rep)\n",
        "'''"
      ],
      "metadata": {
        "colab": {
          "base_uri": "https://localhost:8080/"
        },
        "id": "EwkV7205xwbJ",
        "outputId": "dd7e4aad-2a53-4201-d157-1230d8623d42"
      },
      "execution_count": 7,
      "outputs": [
        {
          "output_type": "stream",
          "name": "stdout",
          "text": [
            "I like orange\n"
          ]
        }
      ]
    },
    {
      "cell_type": "code",
      "source": [
        "#  Q6 =>Write a code to create a list with numbers 1 to 5 and print it\n",
        "'''\n",
        "a=[1,2,3,4,5]\n",
        "print(a)\n",
        "'''"
      ],
      "metadata": {
        "colab": {
          "base_uri": "https://localhost:8080/"
        },
        "id": "kAgUdNN2yRse",
        "outputId": "5033b597-ffcc-4b43-851a-f85b14ea3d4c"
      },
      "execution_count": 8,
      "outputs": [
        {
          "output_type": "stream",
          "name": "stdout",
          "text": [
            "[1, 2, 3, 4, 5]\n"
          ]
        }
      ]
    },
    {
      "cell_type": "code",
      "source": [
        "#  Q7 => Write a code to append the number 10 to the list [1, 2, 3, 4]\n",
        "'''\n",
        "my_list = [1, 2, 3, 4]\n",
        "my_list.append(10)\n",
        "print(my_list)\n",
        "'''\n",
        "\n"
      ],
      "metadata": {
        "colab": {
          "base_uri": "https://localhost:8080/"
        },
        "id": "F3sIqRdqyl0P",
        "outputId": "c000df67-bf1d-4e95-d77e-c1d9167d424b"
      },
      "execution_count": 15,
      "outputs": [
        {
          "output_type": "stream",
          "name": "stdout",
          "text": [
            "[1, 2, 3, 4, 10]\n"
          ]
        }
      ]
    },
    {
      "cell_type": "code",
      "source": [
        "#  Q8 => Write a code to remove the number 3 from the list [1, 2, 3, 4, 5]\n",
        "'''\n",
        "list = [1,2,3,4,5]\n",
        "list.remove(3)\n",
        "print(list)\n",
        "'''"
      ],
      "metadata": {
        "colab": {
          "base_uri": "https://localhost:8080/"
        },
        "id": "7uSwGtK_yuok",
        "outputId": "8911834a-c177-4746-8238-d63ae69eb2e2"
      },
      "execution_count": 16,
      "outputs": [
        {
          "output_type": "stream",
          "name": "stdout",
          "text": [
            "[1, 2, 4, 5]\n"
          ]
        }
      ]
    },
    {
      "cell_type": "code",
      "source": [
        "# Q9 => Write a code to access the second element in the list ['a', 'b', 'c', 'd']\n",
        "'''\n",
        "list =['a','b','c','d']\n",
        "print(list[1])\n",
        "'''"
      ],
      "metadata": {
        "colab": {
          "base_uri": "https://localhost:8080/"
        },
        "id": "6QgY8nnbyula",
        "outputId": "2fe64664-2101-4262-ac29-4aa405b4b93c"
      },
      "execution_count": 17,
      "outputs": [
        {
          "output_type": "stream",
          "name": "stdout",
          "text": [
            "b\n"
          ]
        }
      ]
    },
    {
      "cell_type": "code",
      "source": [
        "# Q10=> Write a code to reverse the list [10, 20, 30, 40, 50].\n",
        "'''\n",
        "list =[10,20,30,40,50]\n",
        "list.reverse()\n",
        "print(list)\n",
        "'''"
      ],
      "metadata": {
        "colab": {
          "base_uri": "https://localhost:8080/"
        },
        "id": "uISzh22jyuiX",
        "outputId": "04707a01-5464-4ceb-9427-ed98f0498430"
      },
      "execution_count": 19,
      "outputs": [
        {
          "output_type": "stream",
          "name": "stdout",
          "text": [
            "[50, 40, 30, 20, 10]\n"
          ]
        }
      ]
    },
    {
      "cell_type": "code",
      "source": [
        "# Q11. Write a code to create a tuple with the elements 10, 20, 30 and print it.\n",
        "'''\n",
        "tuple=(10,20,30)\n",
        "print(tuple)\n",
        "'''\n",
        "\n"
      ],
      "metadata": {
        "id": "PUcp8L5DzKx6"
      },
      "execution_count": null,
      "outputs": []
    },
    {
      "cell_type": "code",
      "source": [
        "# Q12. Write a code to access the first element of the tuple ('apple', 'banana', 'cherry').\n",
        "\n",
        "tuple=('apple','banana','cherry')\n",
        "print(tuple[0])"
      ],
      "metadata": {
        "id": "ro87J5HZzKvJ"
      },
      "execution_count": null,
      "outputs": []
    },
    {
      "cell_type": "code",
      "source": [
        "\n",
        "# Q13 => Write a code to count how many times the number 2 appears in the tuple (1, 2, 3, 2, 4, 2).\n",
        "\n",
        "'''\n",
        "tuple=(1,2,3,2,4,2)\n",
        "print(tuple.count(2))\n",
        "'''"
      ],
      "metadata": {
        "id": "bpFD1dfBzKsc"
      },
      "execution_count": null,
      "outputs": []
    },
    {
      "cell_type": "code",
      "source": [
        "\n",
        "#  Q14. Write a code to find the index of the element \"cat\" in the tuple ('dog', 'cat', 'rabbit').\n",
        "'''\n",
        "tuple = ('dog', 'cat', 'rabbit')\n",
        "print(tuple.index('cat'))\n",
        "'''"
      ],
      "metadata": {
        "colab": {
          "base_uri": "https://localhost:8080/"
        },
        "id": "cnT8SdQAzKpW",
        "outputId": "9b075700-8bcd-4479-a1ed-78c077ec1a76"
      },
      "execution_count": 20,
      "outputs": [
        {
          "output_type": "stream",
          "name": "stdout",
          "text": [
            "1\n"
          ]
        }
      ]
    },
    {
      "cell_type": "code",
      "source": [
        "# Q15. Write a code to check if the element \"banana\" is in the tuple ('apple', 'orange', 'banana').\n",
        "'''\n",
        "ele = ('apple', 'orange', 'banana')\n",
        "print('banana' in ele)\n",
        "'''\n"
      ],
      "metadata": {
        "colab": {
          "base_uri": "https://localhost:8080/"
        },
        "id": "NadkakvQzKmc",
        "outputId": "2ec34224-f2ca-4422-ac11-83d8f85a531c"
      },
      "execution_count": 21,
      "outputs": [
        {
          "output_type": "stream",
          "name": "stdout",
          "text": [
            "True\n"
          ]
        }
      ]
    },
    {
      "cell_type": "code",
      "source": [
        "# Q16. Write a code to create a set with the elements 1, 2, 3, 4, 5 and print it.\n",
        "'''\n",
        "set ={1,2,3,4,5}\n",
        "print(set)\n",
        "'''"
      ],
      "metadata": {
        "id": "aVeJIozGzYxH"
      },
      "execution_count": null,
      "outputs": []
    },
    {
      "cell_type": "code",
      "source": [
        "\n",
        "# Q17. Write a code to add the element 6 to the set {1, 2, 3, 4}.\n",
        "'''\n",
        "set = {1,2,3,4}\n",
        "set.add(6)\n",
        "print(set)\n",
        "'''"
      ],
      "metadata": {
        "colab": {
          "base_uri": "https://localhost:8080/"
        },
        "id": "rk6AgAiozYuA",
        "outputId": "c13d47d6-5a18-4c00-b050-15e198a57ee9"
      },
      "execution_count": 25,
      "outputs": [
        {
          "output_type": "stream",
          "name": "stdout",
          "text": [
            "{1, 2, 3, 4, 6}\n"
          ]
        }
      ]
    },
    {
      "cell_type": "code",
      "source": [
        "\n",
        "# Q18. Write a code to create a tuple with the elements 10, 20, 30 and print it.\n",
        "'''\n",
        "tuple=(10,20,30)\n",
        "print(tuple)\n",
        "'''\n"
      ],
      "metadata": {
        "id": "upYcTtBxzYq1"
      },
      "execution_count": null,
      "outputs": []
    },
    {
      "cell_type": "code",
      "source": [
        "\n",
        "#  Q19. Write a code to access the first element of the tuple ('apple', 'banana', 'cherry').\n",
        "'''\n",
        "tuple = ('apple', 'banana', 'cherry')\n",
        "print(tuple[0])\n",
        "'''"
      ],
      "metadata": {
        "id": "m0RyAc0pzYoB"
      },
      "execution_count": null,
      "outputs": []
    },
    {
      "cell_type": "code",
      "source": [
        "\n",
        "# Q20. Write a code to count how many times the number 2 appears in the tuple (1, 2, 3, 2, 4, 2).\n",
        "'''\n",
        " tuple = (1, 2, 3, 2, 4, 2)\n",
        "print(tuple.count(2))\n",
        "'''\n"
      ],
      "metadata": {
        "id": "QtEjmmM7zmM1"
      },
      "execution_count": null,
      "outputs": []
    },
    {
      "cell_type": "code",
      "source": [
        "\n",
        "# Q21. Write a code to find the index of the element \"cat\" in the tuple ('dog', 'cat', 'rabbit').\n",
        "'''\n",
        "tuple = ('dog', 'cat', 'rabbit')\n",
        "print(tuple.index('cat'))\n",
        "'''"
      ],
      "metadata": {
        "id": "xaXVC1NmzmJw"
      },
      "execution_count": null,
      "outputs": []
    },
    {
      "cell_type": "code",
      "source": [
        "\n",
        "# Q22. Write a code to check if the element \"banana\" is in the tuple ('apple', 'orange', 'banana').\n",
        "'''\n",
        "tuple = ('apple', 'orange', 'banana')\n",
        "print('banana' in tuple)\n",
        "'''\n"
      ],
      "metadata": {
        "id": "QnM828CLzmGi"
      },
      "execution_count": null,
      "outputs": []
    },
    {
      "cell_type": "code",
      "source": [
        "\n",
        "#  Q23.   Write a code to create a set with the elements 1, 2, 3, 4, 5 and print it.\n",
        "'''\n",
        "set = {1, 2, 3, 4, 5}\n",
        "print(set)\n",
        "'''"
      ],
      "metadata": {
        "id": "KTHFXfRazmDn"
      },
      "execution_count": null,
      "outputs": []
    },
    {
      "cell_type": "code",
      "source": [
        "\n",
        "#  Q24. Write a code to add the element 6 to the set {1, 2, 3, 4}.\n",
        "'''\n",
        "set={1,2,3,4}\n",
        "set.add(6)\n",
        "print(set)\n",
        "'''"
      ],
      "metadata": {
        "colab": {
          "base_uri": "https://localhost:8080/"
        },
        "id": "--hT6jUUzygM",
        "outputId": "321b5bfe-59f9-40b9-91b1-1051c4a50859"
      },
      "execution_count": 26,
      "outputs": [
        {
          "output_type": "stream",
          "name": "stdout",
          "text": [
            "{1, 2, 3, 4, 6}\n"
          ]
        }
      ]
    }
  ]
}